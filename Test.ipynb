{
 "cells": [
  {
   "cell_type": "code",
   "execution_count": null,
   "id": "f65bbbc5-c713-461d-82e3-dd8129221c02",
   "metadata": {},
   "outputs": [],
   "source": [
    "import os\n",
    "\n",
    "if 'CUDA_VISIBLE_DEVICES' not in os.environ:\n",
    "    print('Not running in a GPU environment')\n",
    "else:\n",
    "    print('Running in a GPU environment')\n",
    "    indices = [int(index) for index in os.environ['CUDA_VISIBLE_DEVICES'].split(',') if len(index)]\n",
    "    if len(indices) == 0:\n",
    "        print('Detached from devices')\n",
    "    else:\n",
    "        print(f'Using devices {indices}')"
   ]
  }
 ],
 "metadata": {
  "kernelspec": {
   "display_name": "Python 3 (ipykernel)",
   "language": "python",
   "name": "python3"
  },
  "language_info": {
   "codemirror_mode": {
    "name": "ipython",
    "version": 3
   },
   "file_extension": ".py",
   "mimetype": "text/x-python",
   "name": "python",
   "nbconvert_exporter": "python",
   "pygments_lexer": "ipython3",
   "version": "3.10.6"
  }
 },
 "nbformat": 4,
 "nbformat_minor": 5
}
